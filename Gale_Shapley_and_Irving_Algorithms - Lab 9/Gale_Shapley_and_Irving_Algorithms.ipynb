{
  "nbformat": 4,
  "nbformat_minor": 0,
  "metadata": {
    "colab": {
      "name": "Gale-Shapley and Irving Algorithms ",
      "provenance": []
    },
    "kernelspec": {
      "name": "python3",
      "display_name": "Python 3"
    }
  },
  "cells": [
    {
      "cell_type": "code",
      "metadata": {
        "id": "KcEL1Hl-vR7I"
      },
      "source": [
        "import math\n",
        "import pandas as pd\n",
        "import pandas as pd\n",
        "import numpy as np\n",
        "from collections import Counter\n",
        "from copy import copy\n",
        "import random\n",
        "import matplotlib.pyplot as plt"
      ],
      "execution_count": 9,
      "outputs": []
    },
    {
      "cell_type": "code",
      "metadata": {
        "id": "TdZW7n6Avp9I"
      },
      "source": [
        "def Gale_Shapley(pr_man,pr_women,n):\n",
        "\n",
        "    man_list = list(range(1,n+1))        \n",
        "    women_list = list(range(n+1,n*2+1))  \n",
        "    col=list(range(n+1,n*2+1))       \n",
        "    ind=list(range(1,n+1))\n",
        "    women_df = pd.DataFrame({col[i]:pr_women[i] for i in range(n)},index=ind) \n",
        "    man_df = pd.DataFrame(pr_man,columns=col,index=ind)                     \n",
        "    women_available = {man:women_list for man in man_list}                    \n",
        "    waiting = []           \n",
        "    proposals = {}          \n",
        "    count = 0\n",
        "\n",
        "    while len(waiting)<len(man_list): \n",
        "        for man in man_list:\n",
        "            if man not in waiting:   \n",
        "                women = women_available[man]\n",
        "                best_choice = man_df.loc[man][man_df.loc[man].index.isin(women)].idxmin()                \n",
        "                proposals[(man, best_choice)]=(man_df.loc[man][best_choice],women_df.loc[man][best_choice]) \n",
        "                overlays = Counter([key[1] for key in proposals.keys()]) \n",
        "\n",
        "        for women in overlays.keys():\n",
        "            if overlays[women]>1:\n",
        "                pairs_to_drop = sorted({pair: proposals[pair] for pair in proposals.keys() if women in pair}.items(), key=lambda x: x[1][1])[1:] \n",
        "                \n",
        "                for p_to_drop in pairs_to_drop: \n",
        "                    del proposals[p_to_drop[0]]\n",
        "                    _women = copy(women_available[p_to_drop[0][0]])\n",
        "                    _women.remove(p_to_drop[0][1])\n",
        "                    women_available[p_to_drop[0][0]] = _women   \n",
        "\n",
        "        waiting = [man[0] for man in proposals.keys()] \n",
        "\n",
        "        count+=1\n",
        "\n",
        "\n",
        "    print(proposals)\n",
        "    print(\"days=\",count)"
      ],
      "execution_count": 2,
      "outputs": []
    },
    {
      "cell_type": "markdown",
      "metadata": {
        "id": "UDUtcnWNxTsT"
      },
      "source": [
        "# 1) Peor y mejor caso respectivamente"
      ]
    },
    {
      "cell_type": "markdown",
      "metadata": {
        "id": "q667IZt3xlNg"
      },
      "source": [
        "### n = 4"
      ]
    },
    {
      "cell_type": "code",
      "metadata": {
        "colab": {
          "base_uri": "https://localhost:8080/"
        },
        "id": "WW3Z-0J_xaaj",
        "outputId": "93ab0d71-2b01-4b4b-c5e4-5eb2d5aab3b7"
      },
      "source": [
        "men=[[1,2,3,4],[3,1,2,4],[2,3,1,4],[1,2,3,4]]\n",
        "women=[[4,1,2,3],[3,4,1,2],[2,3,4,1],[1,2,3,4]]\n",
        "Gale_Shapley(men,women,4)"
      ],
      "execution_count": 10,
      "outputs": [
        {
          "output_type": "stream",
          "text": [
            "{(2, 5): (3, 1), (3, 6): (3, 1), (4, 7): (3, 1), (1, 8): (4, 1)}\n",
            "days= 10\n"
          ],
          "name": "stdout"
        }
      ]
    },
    {
      "cell_type": "code",
      "metadata": {
        "colab": {
          "base_uri": "https://localhost:8080/"
        },
        "id": "UYa6TR6iyCAj",
        "outputId": "59325dff-88d6-4844-b01b-55bf383302fa"
      },
      "source": [
        "men=[[1,2,3,4],[3,1,2,4],[2,3,1,4],[4,2,3,1]]\n",
        "women=[[1,2,3,4],[3,1,2,4],[2,3,1,4],[4,2,3,1]]\n",
        "Gale_Shapley(men,women,4)"
      ],
      "execution_count": 11,
      "outputs": [
        {
          "output_type": "stream",
          "text": [
            "{(1, 5): (1, 1), (2, 6): (1, 1), (3, 7): (1, 1), (4, 8): (1, 1)}\n",
            "days= 1\n"
          ],
          "name": "stdout"
        }
      ]
    },
    {
      "cell_type": "markdown",
      "metadata": {
        "id": "vlHsReukyH5x"
      },
      "source": [
        "### n = 40"
      ]
    },
    {
      "cell_type": "code",
      "metadata": {
        "colab": {
          "base_uri": "https://localhost:8080/"
        },
        "id": "sdiZo0O8yLMO",
        "outputId": "bdc54a5a-ef13-4890-997b-e030803ed224"
      },
      "source": [
        "men=[]\n",
        "base=list(range(1,41))\n",
        "men.append(base)\n",
        "\n",
        "for i in range(39):\n",
        "    men.append(base[38-i:39]+base[:38-i]+base[39:])\n",
        "base2=[40]\n",
        "base2+=list(range(1,40))\n",
        "women=[]\n",
        "women.append(base2)\n",
        "\n",
        "for i in range(39):\n",
        "    women.append(base2[39-i:]+base2[:39-i])\n",
        "Gale_Shapley(men,women,40)"
      ],
      "execution_count": 13,
      "outputs": [
        {
          "output_type": "stream",
          "text": [
            "{(2, 41): (39, 1), (3, 42): (39, 1), (4, 43): (39, 1), (5, 44): (39, 1), (6, 45): (39, 1), (7, 46): (39, 1), (8, 47): (39, 1), (9, 48): (39, 1), (10, 49): (39, 1), (11, 50): (39, 1), (12, 51): (39, 1), (13, 52): (39, 1), (14, 53): (39, 1), (15, 54): (39, 1), (16, 55): (39, 1), (17, 56): (39, 1), (18, 57): (39, 1), (19, 58): (39, 1), (20, 59): (39, 1), (21, 60): (39, 1), (22, 61): (39, 1), (23, 62): (39, 1), (24, 63): (39, 1), (25, 64): (39, 1), (26, 65): (39, 1), (27, 66): (39, 1), (28, 67): (39, 1), (29, 68): (39, 1), (30, 69): (39, 1), (31, 70): (39, 1), (32, 71): (39, 1), (33, 72): (39, 1), (34, 73): (39, 1), (35, 74): (39, 1), (36, 75): (39, 1), (37, 76): (39, 1), (38, 77): (39, 1), (39, 78): (39, 1), (40, 79): (39, 1), (1, 80): (40, 1)}\n",
            "days= 1522\n"
          ],
          "name": "stdout"
        }
      ]
    },
    {
      "cell_type": "code",
      "metadata": {
        "colab": {
          "base_uri": "https://localhost:8080/"
        },
        "id": "KvGD3AzCyZEP",
        "outputId": "32ae84df-0356-453a-9676-e295df8d4af3"
      },
      "source": [
        "men=[]\n",
        "base=list(range(1,41))\n",
        "men.append(base)\n",
        "for i in range(39):\n",
        "    men.append(base[39-i:]+base[:39-i])\n",
        "\n",
        "Gale_Shapley(men,men,40)"
      ],
      "execution_count": 14,
      "outputs": [
        {
          "output_type": "stream",
          "text": [
            "{(1, 41): (1, 1), (2, 42): (1, 1), (3, 43): (1, 1), (4, 44): (1, 1), (5, 45): (1, 1), (6, 46): (1, 1), (7, 47): (1, 1), (8, 48): (1, 1), (9, 49): (1, 1), (10, 50): (1, 1), (11, 51): (1, 1), (12, 52): (1, 1), (13, 53): (1, 1), (14, 54): (1, 1), (15, 55): (1, 1), (16, 56): (1, 1), (17, 57): (1, 1), (18, 58): (1, 1), (19, 59): (1, 1), (20, 60): (1, 1), (21, 61): (1, 1), (22, 62): (1, 1), (23, 63): (1, 1), (24, 64): (1, 1), (25, 65): (1, 1), (26, 66): (1, 1), (27, 67): (1, 1), (28, 68): (1, 1), (29, 69): (1, 1), (30, 70): (1, 1), (31, 71): (1, 1), (32, 72): (1, 1), (33, 73): (1, 1), (34, 74): (1, 1), (35, 75): (1, 1), (36, 76): (1, 1), (37, 77): (1, 1), (38, 78): (1, 1), (39, 79): (1, 1), (40, 80): (1, 1)}\n",
            "days= 1\n"
          ],
          "name": "stdout"
        }
      ]
    },
    {
      "cell_type": "markdown",
      "metadata": {
        "id": "Nqi7UR3My1ZK"
      },
      "source": [
        "# 2) Minimo, maximo y promedio "
      ]
    },
    {
      "cell_type": "code",
      "metadata": {
        "id": "ehWNXqOk3vG3"
      },
      "source": [
        "def Gale_Shapley_modify(n):\n",
        "    step_count=[]\n",
        "    for t in range(100): \n",
        "        pr_man=[random.sample(list(range(1,n+1)),n) for i in range(n)]\n",
        "        pr_women=[random.sample(list(range(1,n+1)),n) for i in range(n)]\n",
        "        man_list = list(range(1,n+1))\n",
        "        women_list = list(range(n+1,n*2+1))\n",
        "        col=list(range(n+1,n*2+1))\n",
        "        ind=list(range(1,n+1))\n",
        "        women_df = pd.DataFrame({col[i]:pr_women[i] for i in range(n)},index=ind)    \n",
        "        man_df = pd.DataFrame(pr_man,columns=col,index=ind) \n",
        "        women_available = {man:women_list for man in man_list}\n",
        "        waiting_list = []\n",
        "        proposals = {}\n",
        "        count = 0\n",
        "        while len(waiting_list)<len(man_list):\n",
        "    \n",
        "            for man in man_list:\n",
        "        \n",
        "                if man not in waiting_list:\n",
        "                    \n",
        "                    women = women_available[man]\n",
        "                    best_choice = man_df.loc[man][man_df.loc[man].index.isin(women)].idxmin()                    \n",
        "                    proposals[(man, best_choice)]=(man_df.loc[man][best_choice],women_df.loc[man][best_choice])\n",
        "\n",
        "            overlays = Counter([key[1] for key in proposals.keys()])           \n",
        "\n",
        "            for women in overlays.keys():\n",
        "                if overlays[women]>1:\n",
        "\n",
        "                    pairs_to_drop = sorted({pair: proposals[pair] for pair in proposals.keys() if women in pair}.items(), key=lambda x: x[1][1])[1:]\n",
        "\n",
        "                    for p_to_drop in pairs_to_drop:\n",
        "                        del proposals[p_to_drop[0]]\n",
        "                        _women = copy(women_available[p_to_drop[0][0]])\n",
        "                        _women.remove(p_to_drop[0][1])\n",
        "                        women_available[p_to_drop[0][0]] = _women\n",
        "\n",
        "            waiting_list = [man[0] for man in proposals.keys()]\n",
        "            count+=1\n",
        "\n",
        "        step_count.append(count)\n",
        "    plt.hist(step_count, bins=max(step_count)-min(step_count))\n",
        "    plt.xlabel('dias')\n",
        "    plt.ylabel('Frecuencia')\n",
        "    plt.title(\"Matchin perfecto\")\n",
        "    plt.show()\n",
        "    print(\"# minimo de dias = \",min(step_count))\n",
        "    print(\"# maximo de dias = \",max(step_count))\n",
        "    print(\"promedio = \",sum(step_count)/len(step_count))"
      ],
      "execution_count": 28,
      "outputs": []
    },
    {
      "cell_type": "code",
      "metadata": {
        "colab": {
          "base_uri": "https://localhost:8080/",
          "height": 346
        },
        "id": "5nQ45Ay63zak",
        "outputId": "861e278a-0ac9-4a26-d321-2b9b317473d0"
      },
      "source": [
        "Gale_Shapley_modify(4)"
      ],
      "execution_count": 31,
      "outputs": [
        {
          "output_type": "display_data",
          "data": {
            "image/png": "[encoded data removed]",
            "text/plain": [
              "<Figure size 432x288 with 1 Axes>"
            ]
          },
          "metadata": {
            "tags": [],
            "needs_background": "light"
          }
        },
        {
          "output_type": "stream",
          "text": [
            "# minimo de dias =  1\n",
            "# maximo de dias =  10\n",
            "promedio =  3.1\n"
          ],
          "name": "stdout"
        }
      ]
    },
    {
      "cell_type": "code",
      "metadata": {
        "colab": {
          "base_uri": "https://localhost:8080/",
          "height": 346
        },
        "id": "RtDzUo-24DNP",
        "outputId": "1f687b45-71cb-4bec-ed1f-282885abe0ca"
      },
      "source": [
        "Gale_Shapley_modify(40)"
      ],
      "execution_count": 32,
      "outputs": [
        {
          "output_type": "display_data",
          "data": {
            "image/png": "[encoded data removed]",
            "text/plain": [
              "<Figure size 432x288 with 1 Axes>"
            ]
          },
          "metadata": {
            "tags": [],
            "needs_background": "light"
          }
        },
        {
          "output_type": "stream",
          "text": [
            "# minimo de dias =  16\n",
            "# maximo de dias =  174\n",
            "promedio =  56.29\n"
          ],
          "name": "stdout"
        }
      ]
    }
  ]
}