{
  "nbformat": 4,
  "nbformat_minor": 0,
  "metadata": {
    "colab": {
      "name": "Eight Queens.ipynb",
      "provenance": []
    },
    "kernelspec": {
      "name": "python3",
      "display_name": "Python 3"
    }
  },
  "cells": [
    {
      "cell_type": "code",
      "metadata": {
        "colab": {
          "base_uri": "https://localhost:8080/"
        },
        "id": "MAV-1jJ0_S7z",
        "outputId": "14f042d6-c658-48fd-f489-8a1f6afc6686"
      },
      "source": [
        "#No sabia que hacer concretamente en este lab, por lo que solamente \r\n",
        "#cambié el numero de N y el tablero para que nos de 1 solucion del tablero 8\r\n",
        "\r\n",
        "# Python3 program to solve N Queen  \r\n",
        "# Problem using backtracking \r\n",
        "global N \r\n",
        "  \r\n",
        "def printSolution(board): \r\n",
        "    for i in range(N): \r\n",
        "        for j in range(N): \r\n",
        "            print (board[i][j], end = \" \") \r\n",
        "        print() \r\n",
        "  \r\n",
        "# A utility function to check if a queen can \r\n",
        "# be placed on board[row][col]. Note that this \r\n",
        "# function is called when \"col\" queens are \r\n",
        "# already placed in columns from 0 to col -1. \r\n",
        "# So we need to check only left side for \r\n",
        "# attacking queens \r\n",
        "def isSafe(board, row, col): \r\n",
        "  \r\n",
        "    # Check this row on left side \r\n",
        "    for i in range(col): \r\n",
        "        if board[row][i] == 1: \r\n",
        "            return False\r\n",
        "  \r\n",
        "    # Check upper diagonal on left side \r\n",
        "    for i, j in zip(range(row, -1, -1),  \r\n",
        "                    range(col, -1, -1)): \r\n",
        "        if board[i][j] == 1: \r\n",
        "            return False\r\n",
        "  \r\n",
        "    # Check lower diagonal on left side \r\n",
        "    for i, j in zip(range(row, N, 1),  \r\n",
        "                    range(col, -1, -1)): \r\n",
        "        if board[i][j] == 1: \r\n",
        "            return False\r\n",
        "  \r\n",
        "    return True\r\n",
        "  \r\n",
        "def solveNQUtil(board, col): \r\n",
        "      \r\n",
        "    # base case: If all queens are placed \r\n",
        "    # then return true \r\n",
        "    if col >= N: \r\n",
        "        return True\r\n",
        "  \r\n",
        "    # Consider this column and try placing \r\n",
        "    # this queen in all rows one by one \r\n",
        "    for i in range(N): \r\n",
        "  \r\n",
        "        if isSafe(board, i, col): \r\n",
        "              \r\n",
        "            # Place this queen in board[i][col] \r\n",
        "            board[i][col] = 1\r\n",
        "  \r\n",
        "            # recur to place rest of the queens \r\n",
        "            if solveNQUtil(board, col + 1) == True: \r\n",
        "                return True\r\n",
        "  \r\n",
        "            # If placing queen in board[i][col \r\n",
        "            # doesn't lead to a solution, then \r\n",
        "            # queen from board[i][col] \r\n",
        "            board[i][col] = 0\r\n",
        "  \r\n",
        "    # if the queen can not be placed in any row in \r\n",
        "    # this colum col then return false \r\n",
        "    return False\r\n",
        "  \r\n",
        "# This function solves the N Queen problem using \r\n",
        "# Backtracking. It mainly uses solveNQUtil() to \r\n",
        "# solve the problem. It returns false if queens \r\n",
        "# cannot be placed, otherwise return true and \r\n",
        "# placement of queens in the form of 1s. \r\n",
        "# note that there may be more than one \r\n",
        "# solutions, this function prints one of the \r\n",
        "# feasible solutions. \r\n",
        "def solveNQ(): \r\n",
        "\r\n",
        "    board = [ [0, 0, 0, 0, 0, 0, 0, 0], \r\n",
        "              [0, 0, 0, 0, 0, 0, 0, 0], \r\n",
        "              [0, 0, 0, 0, 0, 0, 0, 0], \r\n",
        "              [0, 0, 0, 0, 0, 0, 0, 0], \r\n",
        "              [0, 0, 0, 0, 0, 0, 0, 0], \r\n",
        "             [0, 0, 0, 0, 0, 0, 0, 0], \r\n",
        "             [0, 0, 0, 0, 0, 0, 0, 0], \r\n",
        "             [0, 0, 0, 0, 0, 0, 0, 0]]\r\n",
        "    if solveNQUtil(board, 0) == False: \r\n",
        "        print (\"Solution does not exist\") \r\n",
        "        return False\r\n",
        "  \r\n",
        "    printSolution(board) \r\n",
        "    return True\r\n",
        "  \r\n",
        "# Driver Code \r\n",
        "N = 8\r\n",
        "solveNQ() \r\n",
        "  \r\n",
        "# This code is contributed by Divyanshu Mehta "
      ],
      "execution_count": 34,
      "outputs": [
        {
          "output_type": "stream",
          "text": [
            "1 0 0 0 0 0 0 0 \n",
            "0 0 0 0 0 0 1 0 \n",
            "0 0 0 0 1 0 0 0 \n",
            "0 0 0 0 0 0 0 1 \n",
            "0 1 0 0 0 0 0 0 \n",
            "0 0 0 1 0 0 0 0 \n",
            "0 0 0 0 0 1 0 0 \n",
            "0 0 1 0 0 0 0 0 \n"
          ],
          "name": "stdout"
        },
        {
          "output_type": "execute_result",
          "data": {
            "text/plain": [
              "True"
            ]
          },
          "metadata": {
            "tags": []
          },
          "execution_count": 34
        }
      ]
    }
  ]
}